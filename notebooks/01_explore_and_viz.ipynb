{
 "cells": [
  {
   "cell_type": "markdown",
   "id": "95cd7eac",
   "metadata": {},
   "source": [
    "Create a simple notebook with the following cells (outline):\n",
    "\n",
    "Load modeled data\n",
    "\n",
    "    Read data/processed/modeling_table.parquet.\n",
    "\n",
    "EDA\n",
    "\n",
    "    Distribution of numVotes, averageRating, years_since_release.\n",
    "\n",
    "    Positives vs negatives by titleType.\n",
    "\n",
    "Feature importance (from baseline)\n",
    "\n",
    "    Load baseline_metrics.json for quick numbers.\n",
    "\n",
    "    Fit a quick model inside notebook and plot coefficients.\n",
    "\n",
    "Per-actor case studies\n",
    "\n",
    "    Pick 3–5 actors; list IMDb knownForTitles vs. model top-4 by pred.\n",
    "\n",
    "Visuals\n",
    "\n",
    "    Bar chart of average Accuracy@4 by actor popularity decile (use total filmography size as a proxy for popularity)."
   ]
  },
  {
   "cell_type": "code",
   "execution_count": 2,
   "id": "f61e6b72",
   "metadata": {},
   "outputs": [],
   "source": [
    "import duckdb, pandas as pd"
   ]
  },
  {
   "cell_type": "code",
   "execution_count": null,
   "id": "9a390c3b",
   "metadata": {},
   "outputs": [
    {
     "name": "stdout",
     "output_type": "stream",
     "text": [
      "       nconst      tconst  rank_in_known_for\n",
      "0  nm17033513   tt3633504                  0\n",
      "1  nm17033526  tt30421041                  0\n",
      "2  nm17033526  tt28355482                  0\n",
      "3  nm17033676  tt35682577                  0\n",
      "4   nm1703370   tt0423476                  0\n"
     ]
    }
   ],
   "source": [
    "df = duckdb.query(\n",
    "    \"SELECT * FROM read_parquet('../data/processed/known_for_labels.parquet') LIMIT 20\"\n",
    ").to_df()\n",
    "print(df.head())"
   ]
  }
 ],
 "metadata": {
  "kernelspec": {
   "display_name": ".venv",
   "language": "python",
   "name": "python3"
  },
  "language_info": {
   "codemirror_mode": {
    "name": "ipython",
    "version": 3
   },
   "file_extension": ".py",
   "mimetype": "text/x-python",
   "name": "python",
   "nbconvert_exporter": "python",
   "pygments_lexer": "ipython3",
   "version": "3.11.9"
  }
 },
 "nbformat": 4,
 "nbformat_minor": 5
}
