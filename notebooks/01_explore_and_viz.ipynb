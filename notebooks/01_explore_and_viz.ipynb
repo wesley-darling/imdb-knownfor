{
 "cells": [
  {
   "cell_type": "markdown",
   "id": "95cd7eac",
   "metadata": {},
   "source": [
    "Create a simple notebook with the following cells (outline):\n",
    "\n",
    "Load modeled data\n",
    "\n",
    "Read data/processed/modeling_table.parquet.\n",
    "\n",
    "EDA\n",
    "\n",
    "Distribution of numVotes, averageRating, years_since_release.\n",
    "\n",
    "Positives vs negatives by titleType.\n",
    "\n",
    "Feature importance (from baseline)\n",
    "\n",
    "Load baseline_metrics.json for quick numbers.\n",
    "\n",
    "Fit a quick model inside notebook and plot coefficients.\n",
    "\n",
    "Per-actor case studies\n",
    "\n",
    "Pick 3–5 actors; list IMDb knownForTitles vs. model top-4 by pred.\n",
    "\n",
    "Visuals\n",
    "\n",
    "Bar chart of average Accuracy@4 by actor popularity decile (use total filmography size as a proxy for popularity)."
   ]
  }
 ],
 "metadata": {
  "language_info": {
   "name": "python"
  }
 },
 "nbformat": 4,
 "nbformat_minor": 5
}
